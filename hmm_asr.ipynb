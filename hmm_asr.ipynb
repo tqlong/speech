{
 "cells": [
  {
   "cell_type": "code",
   "execution_count": null,
   "metadata": {},
   "outputs": [],
   "source": [
    "# Mục tiêu: phân biệt one, two\n",
    "import sounddevice as sd\n",
    "import soundfile as sf\n",
    "from IPython.display import Audio\n",
    "import numpy as np\n",
    "import librosa"
   ]
  },
  {
   "cell_type": "code",
   "execution_count": null,
   "metadata": {},
   "outputs": [],
   "source": [
    "duration=1.0\n",
    "fs=44100\n",
    "sd.play(5.0*np.sin(2*np.pi*940*np.arange(fs)/fs), samplerate=fs, blocking=True)\n",
    "sd.play(0.0*np.sin(2*np.pi*940*np.arange(fs*0.3)/fs), samplerate=fs, blocking=True)\n",
    "print(\"recording\")\n",
    "data = sd.rec(int(duration * fs), samplerate=fs, channels=1, blocking=True)\n",
    "print(\"done recording\")\n",
    "\n",
    "Audio(data=data.T, rate=fs)"
   ]
  },
  {
   "cell_type": "code",
   "execution_count": null,
   "metadata": {},
   "outputs": [],
   "source": [
    "def record_sound(duration, filename=None, fs=44100):\n",
    "    sd.play(5.0*np.sin(2*np.pi*940*np.arange(fs)/fs), samplerate=fs, blocking=True)\n",
    "    sd.play(0.0*np.sin(2*np.pi*940*np.arange(fs*0.3)/fs), samplerate=fs, blocking=True)\n",
    "    print(\"recording\")\n",
    "    data = sd.rec(int(duration * fs), samplerate=fs, channels=1, blocking=True)\n",
    "    print(\"done recording\")\n",
    "    if filename is not None:\n",
    "        sf.write(filename, data, samplerate=fs)\n",
    "    return data.T, fs\n"
   ]
  },
  {
   "cell_type": "code",
   "execution_count": null,
   "metadata": {},
   "outputs": [],
   "source": [
    "data, fs = record_sound(2, filename='test.wav')\n",
    "Audio(data=data, rate=fs)"
   ]
  },
  {
   "cell_type": "code",
   "execution_count": null,
   "metadata": {
    "scrolled": false
   },
   "outputs": [],
   "source": [
    "n_sample = 10\n",
    "for i in range(n_sample):\n",
    "    record_sound(1, filename='one_{}.wav'.format(i))"
   ]
  },
  {
   "cell_type": "code",
   "execution_count": null,
   "metadata": {
    "scrolled": true
   },
   "outputs": [],
   "source": [
    "n_sample = 10\n",
    "for i in range(n_sample):\n",
    "    record_sound(1, filename='two_{}.wav'.format(i))"
   ]
  },
  {
   "cell_type": "code",
   "execution_count": null,
   "metadata": {},
   "outputs": [],
   "source": [
    "def get_mfcc(filename):\n",
    "    data, fs = librosa.load(filename, sr=None)\n",
    "    mfcc = librosa.feature.mfcc(data, fs, hop_length=128, n_fft=1024)\n",
    "    return mfcc"
   ]
  },
  {
   "cell_type": "code",
   "execution_count": null,
   "metadata": {},
   "outputs": [],
   "source": [
    "all_mfcc = []\n",
    "for i in range(10):\n",
    "    mfcc = get_mfcc('one_{}.wav'.format(i))\n",
    "    all_mfcc.append(mfcc)"
   ]
  },
  {
   "cell_type": "code",
   "execution_count": null,
   "metadata": {},
   "outputs": [],
   "source": [
    "all_mfcc_one = [get_mfcc('one_{}.wav'.format(i)) for i in range(10)]\n",
    "all_mfcc_two = [get_mfcc('two_{}.wav'.format(i)) for i in range(10)]"
   ]
  },
  {
   "cell_type": "code",
   "execution_count": null,
   "metadata": {},
   "outputs": [],
   "source": []
  }
 ],
 "metadata": {
  "kernelspec": {
   "display_name": "Python 3",
   "language": "python",
   "name": "python3"
  },
  "language_info": {
   "codemirror_mode": {
    "name": "ipython",
    "version": 3
   },
   "file_extension": ".py",
   "mimetype": "text/x-python",
   "name": "python",
   "nbconvert_exporter": "python",
   "pygments_lexer": "ipython3",
   "version": "3.6.8"
  }
 },
 "nbformat": 4,
 "nbformat_minor": 2
}
